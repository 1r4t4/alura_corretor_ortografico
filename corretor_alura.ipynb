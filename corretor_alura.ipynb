{
  "nbformat": 4,
  "nbformat_minor": 0,
  "metadata": {
    "colab": {
      "provenance": []
    },
    "kernelspec": {
      "name": "python3",
      "display_name": "Python 3"
    },
    "language_info": {
      "name": "python"
    }
  },
  "cells": [
    {
      "cell_type": "markdown",
      "source": [
        "# Importando a base para aprendizagem do corretor, separando os tokens e palavras do artigo"
      ],
      "metadata": {
        "id": "oPOjBzHjsaU5"
      }
    },
    {
      "cell_type": "code",
      "source": [
        "import nltk\n",
        "nltk.download('punkt')"
      ],
      "metadata": {
        "id": "DWU3OtHS7Z6I"
      },
      "execution_count": null,
      "outputs": []
    },
    {
      "cell_type": "code",
      "execution_count": null,
      "metadata": {
        "id": "lWWnFpQo2Z1h"
      },
      "outputs": [],
      "source": [
        "with open(\"artigos.txt\", \"r\") as f:\n",
        "  artigos = f.read()\n",
        "print(artigos[:500])"
      ]
    },
    {
      "cell_type": "code",
      "source": [
        "lista_tokens = nltk.tokenize.word_tokenize(artigos)"
      ],
      "metadata": {
        "id": "j6GIV8Fx6bWe"
      },
      "execution_count": 3,
      "outputs": []
    },
    {
      "cell_type": "code",
      "source": [
        "len(lista_tokens)"
      ],
      "metadata": {
        "id": "fYnTSJF77rAi",
        "colab": {
          "base_uri": "https://localhost:8080/"
        },
        "outputId": "19a2ba1c-72cc-4e03-b80e-c97e752d64c1"
      },
      "execution_count": 45,
      "outputs": [
        {
          "output_type": "execute_result",
          "data": {
            "text/plain": [
              "515827"
            ]
          },
          "metadata": {},
          "execution_count": 45
        }
      ]
    },
    {
      "cell_type": "code",
      "source": [
        "def separa_palavras(lista_tokens):\n",
        "  lista_palavras = []\n",
        "  for token in lista_tokens:\n",
        "    if token.isalpha():\n",
        "      lista_palavras.append(token)\n",
        "  return lista_palavras"
      ],
      "metadata": {
        "id": "b4aQ0Pjc8B8N"
      },
      "execution_count": 5,
      "outputs": []
    },
    {
      "cell_type": "code",
      "source": [
        "palavras_artigo = separa_palavras(lista_tokens)"
      ],
      "metadata": {
        "id": "V8dIrVAT9D-V"
      },
      "execution_count": 6,
      "outputs": []
    },
    {
      "cell_type": "code",
      "source": [
        "len(palavras_artigo)"
      ],
      "metadata": {
        "id": "HZkFdOuB9G2t",
        "colab": {
          "base_uri": "https://localhost:8080/"
        },
        "outputId": "bc51eb1e-48ed-4426-bbb8-b0b72685496c"
      },
      "execution_count": 46,
      "outputs": [
        {
          "output_type": "execute_result",
          "data": {
            "text/plain": [
              "403031"
            ]
          },
          "metadata": {},
          "execution_count": 46
        }
      ]
    },
    {
      "cell_type": "code",
      "source": [
        "def normalizacao(lista_palavras):\n",
        "  lista_normalizada = []\n",
        "  for palavra in lista_palavras:\n",
        "    lista_normalizada.append(palavra.lower())\n",
        "  return lista_normalizada"
      ],
      "metadata": {
        "id": "g0A9dFb19-wM"
      },
      "execution_count": 8,
      "outputs": []
    },
    {
      "cell_type": "code",
      "source": [
        "lista_normalizada_artigo = normalizacao(palavras_artigo)"
      ],
      "metadata": {
        "id": "g6f1pX6i_wbA"
      },
      "execution_count": 9,
      "outputs": []
    },
    {
      "cell_type": "code",
      "source": [
        "set(lista_normalizada_artigo)"
      ],
      "metadata": {
        "id": "tyJO0RIA_7vG"
      },
      "execution_count": null,
      "outputs": []
    },
    {
      "cell_type": "markdown",
      "source": [
        "# Algoritmo para diferentes tipos de erros ortográficos"
      ],
      "metadata": {
        "id": "-lIIT-B6som0"
      }
    },
    {
      "cell_type": "code",
      "source": [
        "def insere_letras(fatias):\n",
        "  novas_palavras = []\n",
        "  letras = 'abcdefghijklmnopqrstuvwxyzàâáãèêéìîíòôóõúûùñç'\n",
        "  for E,D in fatias:\n",
        "    for letra in letras:\n",
        "      novas_palavras.append(E + letra + D)\n",
        "  return novas_palavras\n",
        "\n",
        "def gerador_palavras(palavra):\n",
        "  fatias = []\n",
        "  for i in range(len(palavra)+1):\n",
        "    fatias.append((palavra[:i],palavra[i:]))\n",
        "  palavras_geradas = insere_letras(fatias)\n",
        "  return palavras_geradas"
      ],
      "metadata": {
        "id": "3mxZ3JKny_q1"
      },
      "execution_count": 11,
      "outputs": []
    },
    {
      "cell_type": "code",
      "source": [
        "frequencia = nltk.FreqDist(lista_normalizada_artigo)"
      ],
      "metadata": {
        "id": "VTCuwYiJozhp"
      },
      "execution_count": 12,
      "outputs": []
    },
    {
      "cell_type": "code",
      "source": [
        "total_palavras = len(lista_normalizada_artigo)"
      ],
      "metadata": {
        "id": "Iz3x_caSpuAn"
      },
      "execution_count": 13,
      "outputs": []
    },
    {
      "cell_type": "code",
      "source": [
        "def probabilidade(palavra_gerada):\n",
        "  return frequencia[palavra_gerada]/total_palavras"
      ],
      "metadata": {
        "id": "SkcpmpCfpfF8"
      },
      "execution_count": 14,
      "outputs": []
    },
    {
      "cell_type": "code",
      "source": [
        "def corretor(palavra):\n",
        "  palavras_geradas = gerador_palavras(palavra)\n",
        "  palavra_correta = max(palavras_geradas, key=probabilidade)\n",
        "  return palavra_correta"
      ],
      "metadata": {
        "id": "UdOm_LLrnmTC"
      },
      "execution_count": 15,
      "outputs": []
    },
    {
      "cell_type": "code",
      "source": [
        "palavra_exemplo = \"pthon\""
      ],
      "metadata": {
        "id": "txDQwUZPqggL"
      },
      "execution_count": 16,
      "outputs": []
    },
    {
      "cell_type": "code",
      "source": [
        "corretor(palavra_exemplo)"
      ],
      "metadata": {
        "id": "Jd8giuElqlJu"
      },
      "execution_count": null,
      "outputs": []
    },
    {
      "cell_type": "markdown",
      "source": [
        "# Tentativa própria para deletar letras:"
      ],
      "metadata": {
        "id": "ICKcVmTvzWJd"
      }
    },
    {
      "cell_type": "code",
      "source": [
        "def retira_letras(fatias):\n",
        "  novas_palavras = []\n",
        "  for E,L,D in fatias:\n",
        "      novas_palavras.append(E + D)\n",
        "  return novas_palavras\n",
        "\n",
        "retira_letras([(\"pa\",\"ços\",\"ca\")])"
      ],
      "metadata": {
        "id": "SqwxbJLjw1PV",
        "colab": {
          "base_uri": "https://localhost:8080/"
        },
        "outputId": "17ef2229-7135-4aa5-e198-2dbd73f54974"
      },
      "execution_count": 41,
      "outputs": [
        {
          "output_type": "execute_result",
          "data": {
            "text/plain": [
              "['paca']"
            ]
          },
          "metadata": {},
          "execution_count": 41
        }
      ]
    },
    {
      "cell_type": "code",
      "source": [
        "def gerador_palavras2(palavra):\n",
        "  fatias = []\n",
        "  for i in range(len(palavra)+1):\n",
        "    fatias.append((palavra[:i],palavra[i:i+1],palavra[i+1:]))\n",
        "  palavras_geradas = retira_letras(fatias)\n",
        "  return palavras_geradas"
      ],
      "metadata": {
        "id": "mqvIJ-w_zoHz"
      },
      "execution_count": 42,
      "outputs": []
    },
    {
      "cell_type": "code",
      "source": [
        "def corretor2(palavra):\n",
        "  palavras_geradas = gerador_palavras2(palavra)\n",
        "  palavra_correta = max(palavras_geradas, key=probabilidade)\n",
        "  return palavra_correta"
      ],
      "metadata": {
        "id": "SZQ0qFCqzn0E"
      },
      "execution_count": 43,
      "outputs": []
    },
    {
      "cell_type": "code",
      "source": [
        "corretor2(\"pythonn\")"
      ],
      "metadata": {
        "colab": {
          "base_uri": "https://localhost:8080/",
          "height": 35
        },
        "id": "-X3yn6U93H80",
        "outputId": "8fd6f324-fbd4-46eb-b8c7-1ffdfc411b86"
      },
      "execution_count": 44,
      "outputs": [
        {
          "output_type": "execute_result",
          "data": {
            "text/plain": [
              "'python'"
            ],
            "application/vnd.google.colaboratory.intrinsic+json": {
              "type": "string"
            }
          },
          "metadata": {},
          "execution_count": 44
        }
      ]
    },
    {
      "cell_type": "markdown",
      "source": [
        "Sucesso! =)\n",
        "Porém não é a melhor forma de se fazer isso, portanto o código abaixo segue com o código feito em aula"
      ],
      "metadata": {
        "id": "TPiHdzov3Wli"
      }
    },
    {
      "cell_type": "markdown",
      "source": [
        "# Modo do curso da função deletar letras:"
      ],
      "metadata": {
        "id": "WnBP25adCrEb"
      }
    },
    {
      "cell_type": "code",
      "source": [
        "def subtrai_caracteres(fatias):\n",
        "  novas_palavras = []\n",
        "  for E,D in fatias:\n",
        "      novas_palavras.append(E + D[1:])\n",
        "  return novas_palavras"
      ],
      "metadata": {
        "id": "lzxsXpvH3YBx"
      },
      "execution_count": 24,
      "outputs": []
    },
    {
      "cell_type": "code",
      "source": [
        "avaliador(lista_teste)"
      ],
      "metadata": {
        "colab": {
          "base_uri": "https://localhost:8080/"
        },
        "id": "ZTsIduYq6jdz",
        "outputId": "f83d5e49-c668-40b8-9c36-dceaaf486f78"
      },
      "execution_count": 25,
      "outputs": [
        {
          "output_type": "stream",
          "name": "stdout",
          "text": [
            "1.08% de 186 palavras\n"
          ]
        }
      ]
    },
    {
      "cell_type": "markdown",
      "source": [
        "Desta forma, o código além de ser mais enxuto, fica no mesmo formato do anterior, facilitando o código como um todo pois podemos acessar blocos anteriores."
      ],
      "metadata": {
        "id": "xtVBbAZoCzmC"
      }
    },
    {
      "cell_type": "markdown",
      "source": [
        "#Minha tentativa da função trocar letras:"
      ],
      "metadata": {
        "id": "G5NOJei-MEPG"
      }
    },
    {
      "cell_type": "code",
      "source": [
        "}def troca_caracteres(fatias):\n",
        "  novas_palavras = []\n",
        "  letras = 'abcdefghijklmnopqrstuvwxyzàâáãèêéìîíòôóõúûùñç'\n",
        "  for E,D in fatias:\n",
        "    for letra in letras:\n",
        "      novas_palavras.append(E + letra + D[1:])\n",
        "  return novas_palavras"
      ],
      "metadata": {
        "id": "NEN1AgaLKCyD"
      },
      "execution_count": 26,
      "outputs": []
    },
    {
      "cell_type": "code",
      "source": [
        "palavra3 = 'pithon'"
      ],
      "metadata": {
        "id": "Q8Q6fJZNE5UK"
      },
      "execution_count": 27,
      "outputs": []
    },
    {
      "cell_type": "code",
      "source": [
        "def gerador_palavras(palavra):\n",
        "  fatias = []\n",
        "  for i in range(len(palavra)+1):\n",
        "    fatias.append((palavra[:i],palavra[i:]))\n",
        "  palavras_geradas = insere_letras(fatias)\n",
        "  palavras_geradas += subtrai_caracteres(fatias)\n",
        "  palavras_geradas += troca_caracteres(fatias)\n",
        "  return palavras_geradas"
      ],
      "metadata": {
        "id": "EVw_xmdPH3rw"
      },
      "execution_count": 28,
      "outputs": []
    },
    {
      "cell_type": "code",
      "source": [
        "corretor(palavra3)"
      ],
      "metadata": {
        "colab": {
          "base_uri": "https://localhost:8080/",
          "height": 35
        },
        "id": "-QT_tHzGJnL3",
        "outputId": "30b90af2-490a-4037-ac63-33bbe6cda897"
      },
      "execution_count": 29,
      "outputs": [
        {
          "output_type": "execute_result",
          "data": {
            "text/plain": [
              "'python'"
            ],
            "application/vnd.google.colaboratory.intrinsic+json": {
              "type": "string"
            }
          },
          "metadata": {},
          "execution_count": 29
        }
      ]
    },
    {
      "cell_type": "markdown",
      "source": [
        "Sucesso!!! Desta vez meu código ficou da mesma maneira do que seria sugerido no curso."
      ],
      "metadata": {
        "id": "ikcjrk88LcCa"
      }
    },
    {
      "cell_type": "code",
      "source": [
        "def inverte_caracteres(fatias):\n",
        "  novas_palavras = []\n",
        "  for E,D in fatias:\n",
        "      novas_palavras.append(E + D[1:2] + D[0:1] + D[2:])\n",
        "  return novas_palavras"
      ],
      "metadata": {
        "id": "iiTGQ5KuNV7Y"
      },
      "execution_count": 30,
      "outputs": []
    },
    {
      "cell_type": "code",
      "source": [
        "def gerador_palavras(palavra):\n",
        "  fatias = []\n",
        "  for i in range(len(palavra)+1):\n",
        "    fatias.append((palavra[:i],palavra[i:]))\n",
        "  palavras_geradas = insere_letras(fatias)\n",
        "  palavras_geradas += subtrai_caracteres(fatias)\n",
        "  palavras_geradas += troca_caracteres(fatias)\n",
        "  palavras_geradas += inverte_caracteres(fatias)\n",
        "  return palavras_geradas"
      ],
      "metadata": {
        "id": "GkG1tHUENhyi"
      },
      "execution_count": 31,
      "outputs": []
    },
    {
      "cell_type": "markdown",
      "source": [
        "# Este pedaço é para ser utilizado em caso de haverem 2 erros numa mesma palavra:"
      ],
      "metadata": {
        "id": "d9zLwvvgvNKS"
      }
    },
    {
      "cell_type": "code",
      "source": [
        "def gerador_turbinado(palavras_geradas):\n",
        "  novas_palavras = []\n",
        "  for palavra in palavras_geradas:\n",
        "    novas_palavras += gerador_palavras(palavra)\n",
        "  return novas_palavras\n",
        "\n",
        "palavras_g = gerador_turbinado(gerador_palavras(\"lóiigica\"))\n",
        "\"lógica\" in palavras_g"
      ],
      "metadata": {
        "colab": {
          "base_uri": "https://localhost:8080/"
        },
        "id": "XW5NyqP0Nw05",
        "outputId": "437cdcef-399c-4c4c-c34f-c7a5dd88b433"
      },
      "execution_count": 32,
      "outputs": [
        {
          "output_type": "execute_result",
          "data": {
            "text/plain": [
              "True"
            ]
          },
          "metadata": {},
          "execution_count": 32
        }
      ]
    },
    {
      "cell_type": "code",
      "source": [
        "vocabulario = set(lista_normalizada_artigo)"
      ],
      "metadata": {
        "id": "j9fWPLAlypgf"
      },
      "execution_count": 33,
      "outputs": []
    },
    {
      "cell_type": "code",
      "source": [
        "palavra = \"lóiigica\""
      ],
      "metadata": {
        "id": "JVZn8KVGxuii"
      },
      "execution_count": 34,
      "outputs": []
    },
    {
      "cell_type": "code",
      "source": [
        "def novo_corretor(palavra):\n",
        "  palavras_geradas = gerador_palavras(palavra)\n",
        "  palavras_turbinado = gerador_turbinado(palavras_geradas)\n",
        "  todas_palavras = set(palavras_geradas + palavras_turbinado)\n",
        "  candidatos = []\n",
        "  for palavra in todas_palavras:\n",
        "    if palavra in vocabulario:\n",
        "      candidatos.append(palavra)\n",
        "  palavra_correta = max(candidatos, key=probabilidade)\n",
        "  return palavra_correta"
      ],
      "metadata": {
        "id": "ZyyJfDh2sxbg"
      },
      "execution_count": 35,
      "outputs": []
    },
    {
      "cell_type": "code",
      "source": [
        "novo_corretor(palavra)"
      ],
      "metadata": {
        "colab": {
          "base_uri": "https://localhost:8080/",
          "height": 35
        },
        "id": "UEMqQOEpy9CD",
        "outputId": "aef48e14-cfb2-4a73-874b-e013b659ad05"
      },
      "execution_count": 36,
      "outputs": [
        {
          "output_type": "execute_result",
          "data": {
            "text/plain": [
              "'lógica'"
            ],
            "application/vnd.google.colaboratory.intrinsic+json": {
              "type": "string"
            }
          },
          "metadata": {},
          "execution_count": 36
        }
      ]
    },
    {
      "cell_type": "markdown",
      "source": [
        "# Utilizando uma base de dados com palavras erradas para testar eficiência:"
      ],
      "metadata": {
        "id": "SOKpKgrAuYHL"
      }
    },
    {
      "cell_type": "code",
      "source": [
        "def cria_dados_teste(nome_arquivo):\n",
        "  lista_palavras_teste = []\n",
        "  f = open(nome_arquivo, \"r\")\n",
        "  for linha in f:\n",
        "    correta, errada = linha.split()\n",
        "    lista_palavras_teste.append((correta,errada))\n",
        "  f.close()\n",
        "  return lista_palavras_teste\n",
        "\n",
        "lista_teste = cria_dados_teste(\"palavras.txt\")"
      ],
      "metadata": {
        "id": "DnNPoyJLsbwJ"
      },
      "execution_count": 18,
      "outputs": []
    },
    {
      "cell_type": "code",
      "source": [
        "def avaliador(testes):\n",
        "  numero_palavras = len(testes)\n",
        "  acertou = 0\n",
        "  for correta, errada in testes:\n",
        "    palavra_corrigida = corretor(errada)\n",
        "    if palavra_corrigida == correta:\n",
        "      acertou += 1\n",
        "  taxa_acerto = round(acertou * 100 / numero_palavras , 2)\n",
        "  print(f\"{taxa_acerto}% de {numero_palavras} palavras\")\n",
        "\n",
        "avaliador(lista_teste)"
      ],
      "metadata": {
        "colab": {
          "base_uri": "https://localhost:8080/"
        },
        "id": "a_2xOKS_ug7O",
        "outputId": "1aa745ac-3a05-4ab0-8148-7d8f7cb545fd"
      },
      "execution_count": 47,
      "outputs": [
        {
          "output_type": "stream",
          "name": "stdout",
          "text": [
            "76.34% de 186 palavras\n"
          ]
        }
      ]
    }
  ]
}